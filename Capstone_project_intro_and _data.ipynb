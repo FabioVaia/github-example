{
 "cells": [
  {
   "cell_type": "markdown",
   "metadata": {},
   "source": [
    "# Study of the correlation between obesity and restaurant density in the Greater London"
   ]
  },
  {
   "cell_type": "markdown",
   "metadata": {},
   "source": [
    "## 1. Introduction"
   ]
  },
  {
   "cell_type": "markdown",
   "metadata": {},
   "source": [
    "Obesity is the second cause of premature death in Europe, preceded only by smoking. A research has demonstrated that 1 in 7 premature deaths could be avoided if people had a healthy weigth. What if the risk of obesity was linked to the density of restaurants in the surrounding of the person at risk? What if there were correlations between the number of tentations at which a person is subjected to and the risk that is person will suffer from obesity? "
   ]
  },
  {
   "cell_type": "markdown",
   "metadata": {},
   "source": [
    "The following project aims to provide answer to the following question: "
   ]
  },
  {
   "cell_type": "markdown",
   "metadata": {},
   "source": [
    "**_\"Is there any link between obesity and the density of restaurants in the surrounding of where a person lives in the region of the Greater London?\"_**"
   ]
  },
  {
   "cell_type": "markdown",
   "metadata": {},
   "source": [
    "The results of this study could be useful for the Department of Health and Social Care of United Kingdom but could be expanded to any other region that suffer from high mortality due to obesity such as the rest of Europe or the United States."
   ]
  },
  {
   "cell_type": "markdown",
   "metadata": {},
   "source": [
    "## 2. Data"
   ]
  },
  {
   "cell_type": "markdown",
   "metadata": {},
   "source": [
    "For this project, we will need three types of data:"
   ]
  },
  {
   "cell_type": "markdown",
   "metadata": {},
   "source": [
    "1. We will first need obesity statistics in each of the neighborhood. These data are available on Kaggle but require to create an account. We will thus locally download these data and upload them for the project. These data consist of a number of admission as obesity case in each neighborhood in 2015/2016. The dataset contains information for each neighborhood of England, but we will focus only on the Greater London for this project. Each row of the dataset (after some cleaning) consists of various attributes, but we will only use some of them, namely the name of the neighborhood and the number of admissions per 100 000 population for male, female and both. ([Kagglle](https://www.kaggle.com/fayomi/obesity-in-london-by-gender-region-time/data))\n",
    "2. We will need also the locations of the neighborhood of the Greater London. We will use the package Geopy to obtain the geographical coordinates of each neighborhood. We will look for the coordinates by searching them with Geopy.geocoder using the names of the neighborhood obtained in the previous step. ([Geopy](https://geopy.readthedocs.io/en/stable/))\n",
    "3. We finally need Foursquare data to study the surrounding of the center of each neighborhood and evaluate their density of restaurants. We will search the venues for each neighborhood in a certain radius and then filter the results by searching the venues that contain the word \"_restaurant_\". ([Foursquare](https://foursquare.com/))"
   ]
  },
  {
   "cell_type": "markdown",
   "metadata": {},
   "source": [
    "Luckily, we will not have any missing values. At the end of these steps, we will have a dataset with rows for each neighborhood, and each row will have geographical coordinates, statistics of obesity admissions and a density of restaurants in a certain radius."
   ]
  }
 ],
 "metadata": {
  "kernelspec": {
   "display_name": "Python 3",
   "language": "python",
   "name": "python3"
  },
  "language_info": {
   "codemirror_mode": {
    "name": "ipython",
    "version": 3
   },
   "file_extension": ".py",
   "mimetype": "text/x-python",
   "name": "python",
   "nbconvert_exporter": "python",
   "pygments_lexer": "ipython3",
   "version": "3.6.6"
  }
 },
 "nbformat": 4,
 "nbformat_minor": 2
}
